{
 "cells": [
  {
   "cell_type": "markdown",
   "metadata": {},
   "source": [
    "# Loops\n",
    "\n",
    "## `while` loop\n",
    "\n",
    "You can make a block of code execute over and over again with a `while` statement. The code in a `while` clause will be executed as long as the `while` statement’s condition is `True`. In code, a `while` statement always consists of the following:\n",
    "\n",
    "- The `while` keyword\n",
    "\n",
    "- A condition (that is, an expression that evaluates to `True` or `False`)\n",
    "\n",
    "- A colon(**:**)\n",
    "\n",
    "- Starting on the next line, an indented block of code (called the `while` clause)\n",
    "\n",
    "You can see that a `while` statement looks similar to an `if` statement. The difference is in how they behave. At the end of an `if` clause, the program execution continues after the `if` statement. But at the end of a `while` clause, the program execution jumps back to the start of the `while` statement. The `while` clause is often called the *while loop* or just the loop.\n",
    "\n",
    "Let’s look at an `if` statement and a `while` loop that use the same condition and take the same actions based on that condition."
   ]
  },
  {
   "cell_type": "code",
   "execution_count": 1,
   "metadata": {},
   "outputs": [
    {
     "name": "stdout",
     "output_type": "stream",
     "text": [
      "Hello, world.\n"
     ]
    }
   ],
   "source": [
    "# Here is the code with an 'if' statement:\n",
    "\n",
    "value = 0\n",
    "if value < 5:\n",
    "    print('Hello, world.')\n",
    "    value = value + 1"
   ]
  },
  {
   "cell_type": "code",
   "execution_count": 2,
   "metadata": {},
   "outputs": [
    {
     "name": "stdout",
     "output_type": "stream",
     "text": [
      "Hello, world.\n",
      "Hello, world.\n",
      "Hello, world.\n",
      "Hello, world.\n",
      "Hello, world.\n"
     ]
    }
   ],
   "source": [
    "# Here is the code with a 'while' statement:\n",
    "\n",
    "value = 0\n",
    "while value < 5:\n",
    "    print('Hello, world.')\n",
    "    value = value + 1\n"
   ]
  },
  {
   "cell_type": "markdown",
   "metadata": {},
   "source": [
    "These statements are similar—both `if` and `while` check the `value` variable, and if it’s less than five, they print a message. But when you run these two code snippets, something very different happens for each one. For the `if` statement, the output is simply `\"Hello, world.\"`. But for the `while` statement, it’s `\"Hello, world.\"` repeated five times! Take a look at the flowcharts for these two pieces of code, to see why this happens.\n",
    "\n",
    "![](../images/000091.png) "
   ]
  },
  {
   "cell_type": "markdown",
   "metadata": {},
   "source": [
    "In the `while` loop, the condition is always checked at the start of each iteration (that is, each time the loop is executed). If the condition is `True`, then the clause is executed, and afterward, the condition is checked again. The first time the condition is found to be `False`, the `while` clause is skipped."
   ]
  },
  {
   "cell_type": "markdown",
   "metadata": {},
   "source": [
    "#### An annoying `while` Loop\n",
    "Here’s a small example program that will keep asking you to type, literally, *your name*."
   ]
  },
  {
   "cell_type": "code",
   "execution_count": 1,
   "metadata": {},
   "outputs": [
    {
     "name": "stdout",
     "output_type": "stream",
     "text": [
      "Please type your name\n"
     ]
    },
    {
     "name": "stdin",
     "output_type": "stream",
     "text": [
      " Ankur\n"
     ]
    },
    {
     "name": "stdout",
     "output_type": "stream",
     "text": [
      "Please type your name\n"
     ]
    },
    {
     "name": "stdin",
     "output_type": "stream",
     "text": [
      " Pranav\n"
     ]
    },
    {
     "name": "stdout",
     "output_type": "stream",
     "text": [
      "Please type your name\n"
     ]
    },
    {
     "name": "stdin",
     "output_type": "stream",
     "text": [
      " Vivek\n"
     ]
    },
    {
     "name": "stdout",
     "output_type": "stream",
     "text": [
      "Please type your name\n"
     ]
    },
    {
     "name": "stdin",
     "output_type": "stream",
     "text": [
      " your name\n"
     ]
    },
    {
     "name": "stdout",
     "output_type": "stream",
     "text": [
      "thank you!\n"
     ]
    }
   ],
   "source": [
    "name = '' \n",
    "while name != 'your name':\n",
    "    print('Please type your name')\n",
    "    name = input() \n",
    "print('thank you!') "
   ]
  },
  {
   "cell_type": "markdown",
   "metadata": {},
   "source": [
    "First, the program sets the `name` variable to an empty string. This is so that the `name != 'your name'` condition will evaluate to `True` and the program execution will enter the `while` loop’s clause.\n",
    "\n",
    "The code inside this clause asks the user to type their name, which is assigned to the `name` variable. Since this is the last line of the block, the execution moves back to the start of the while loop and reevaluates the condition. If the value in `name` is not equal to the string `'your name'`, then the condition is `True`, and the execution enters the `while` clause again.\n",
    "\n",
    "But once the user types `'your name'`, the condition of the `while` loop will evaluate to `False`. Instead of  re-entering the `while` loop’s clause, the program execution will skip past it and continues running the rest of the program."
   ]
  },
  {
   "cell_type": "markdown",
   "metadata": {},
   "source": [
    "If you never enter `your name`, then the `while` loop’s condition will never be `False`, and the program will just keep asking forever. Here, the `input()` call lets the user enter the right string to make the program move on. In other programs, the condition might never actually change, and that can be a problem."
   ]
  },
  {
   "cell_type": "markdown",
   "metadata": {},
   "source": [
    "## `for` loop\n",
    "\n",
    "The `while` loop keeps looping while its condition is `True` (which is the reason for its name), but what if you want to execute a block of code only a certain number of times? You can do this with a `for` loop statement and the `range()` function.\n",
    "\n",
    "In code, a `for` statement looks something like `for i in range(5):` and always includes the following:\n",
    "\n",
    "- The `for` keyword\n",
    "\n",
    "- A *variable name*\n",
    "\n",
    "- The `in` keyword\n",
    "\n",
    "- A call to the `range()` method with up to three integers passed to it\n",
    "\n",
    "- A colon(:)\n",
    "\n",
    "- Starting on the next line, an indented block of code (called the `for` clause)\n",
    "\n",
    "This is how the complete code looks like . . . "
   ]
  },
  {
   "cell_type": "code",
   "execution_count": 2,
   "metadata": {},
   "outputs": [
    {
     "name": "stdout",
     "output_type": "stream",
     "text": [
      "My name is\n",
      "Rahul Five Times (0)\n",
      "Rahul Five Times (1)\n",
      "Rahul Five Times (2)\n",
      "Rahul Five Times (3)\n",
      "Rahul Five Times (4)\n"
     ]
    }
   ],
   "source": [
    "print('My name is')\n",
    "for i in range(5):\n",
    "    print('Rahul Five Times (' + str(i) + ')')"
   ]
  },
  {
   "cell_type": "markdown",
   "metadata": {},
   "source": [
    "The code in the `for` loop’s clause is run five times. The first time it is run, the variable `i` is set to 0. The `print()` call in the clause will print `Rahul Five Times (0)`. After Python finishes an iteration through all the code inside the `for` loop’s clause, the execution goes back to the top of the loop, and the `for` statement increments `i` by one. This is why `range(5)` results in five iterations through the clause, with `i` being set to 0, then 1, then 2, then 3, and then 4. The variable `i` will go up to, but will not include, the integer passed to `range()`.\n",
    "\n",
    "![](../images/000102.png)"
   ]
  },
  {
   "cell_type": "markdown",
   "metadata": {},
   "source": [
    "#### An equivalent `while` Loop\n",
    "\n",
    "You can actually use a `while` loop to do the same thing as a `for` loop; for loops are just more concise. Let’s rewrite it, to use a `while` loop equivalent of a `for` loop."
   ]
  },
  {
   "cell_type": "code",
   "execution_count": 1,
   "metadata": {},
   "outputs": [
    {
     "name": "stdout",
     "output_type": "stream",
     "text": [
      "My name is\n",
      "Rahul Five Times (0)\n",
      "Rahul Five Times (1)\n",
      "Rahul Five Times (2)\n",
      "Rahul Five Times (3)\n",
      "Rahul Five Times (4)\n"
     ]
    }
   ],
   "source": [
    "print('My name is')\n",
    "i = 0\n",
    "while i < 5:\n",
    "    print('Rahul Five Times (' + str(i) + ')')\n",
    "    i = i+1"
   ]
  },
  {
   "cell_type": "markdown",
   "metadata": {},
   "source": [
    "Here is another example, consider that you have to sum all the numbers from 0 to 100. You can easily do it, in just few seconds, using `for` loop. Here is the working code . . ."
   ]
  },
  {
   "cell_type": "code",
   "execution_count": 6,
   "metadata": {},
   "outputs": [
    {
     "name": "stdout",
     "output_type": "stream",
     "text": [
      "5050\n"
     ]
    }
   ],
   "source": [
    "total = 0 \n",
    "for num in range(101): \n",
    "    total = total + num \n",
    "print(total) "
   ]
  },
  {
   "cell_type": "markdown",
   "metadata": {},
   "source": [
    "When the program first starts, the `total` variable is set to 0. The `for` loop then executes `total = total + num` 100 times. By the time the loop has finished all of its 100 iterations, every integer from 0 to 100 will have been added to `total`. At this point, `total` is printed to the screen. Even on the slowest computers, this program takes less than a second to complete."
   ]
  },
  {
   "cell_type": "markdown",
   "metadata": {},
   "source": [
    "## `range()` function\n",
    "\n",
    "Some functions can be called with multiple arguments separated by a comma, and `range()` is one of them. This lets you change the integer passed to `range()` to follow any sequence of integers, including starting at a number other than zero."
   ]
  },
  {
   "cell_type": "code",
   "execution_count": 7,
   "metadata": {},
   "outputs": [
    {
     "name": "stdout",
     "output_type": "stream",
     "text": [
      "12\n",
      "13\n",
      "14\n",
      "15\n"
     ]
    }
   ],
   "source": [
    "for i in range(12, 16):\n",
    "    print(i)"
   ]
  },
  {
   "cell_type": "markdown",
   "metadata": {},
   "source": [
    "The first argument will be where the `for` loop’s variable *starts*, and the second argument will be *upto*, but not including, the number to stop at.\n",
    "\n",
    "The `range()` function can also be called with **three arguments**. The first two arguments will be the *start* and *stop* values, and the third will be the *step* argument. The *step* is the amount that the variable is increased by after each iteration."
   ]
  },
  {
   "cell_type": "code",
   "execution_count": 8,
   "metadata": {},
   "outputs": [
    {
     "name": "stdout",
     "output_type": "stream",
     "text": [
      "0\n",
      "2\n",
      "4\n",
      "6\n",
      "8\n"
     ]
    }
   ],
   "source": [
    "for i in range(0, 10, 2):\n",
    "    print(i)"
   ]
  },
  {
   "cell_type": "markdown",
   "metadata": {},
   "source": [
    "So calling `range(0, 10, 2)` will count from zero to eight by intervals of two.\n",
    "\n",
    "The `range()` function is extremely flexible in the sequence of numbers it can produce. For example, you can even use a negative number for the *step* argument to make the `for` loop count down instead of up."
   ]
  },
  {
   "cell_type": "code",
   "execution_count": 9,
   "metadata": {},
   "outputs": [
    {
     "name": "stdout",
     "output_type": "stream",
     "text": [
      "5\n",
      "4\n",
      "3\n",
      "2\n",
      "1\n",
      "0\n"
     ]
    }
   ],
   "source": [
    "for i in range(5, -1, -1):\n",
    "    print(i)"
   ]
  },
  {
   "cell_type": "markdown",
   "metadata": {},
   "source": [
    "Running a `for` loop to print `i` with `range(5, -1, -1)` should print from five down to zero."
   ]
  },
  {
   "cell_type": "markdown",
   "metadata": {},
   "source": [
    "Let’s look at how you can break out of any loop."
   ]
  },
  {
   "cell_type": "markdown",
   "metadata": {},
   "source": [
    "## `break` statement\n",
    "\n",
    "The `break` statement breaks-out of the loop entirely.\n",
    "\n",
    "Here is an example of a `break` statement used for a less trivial task. This loop will print all fibonacci numbers up to a certain value:"
   ]
  },
  {
   "cell_type": "code",
   "execution_count": 11,
   "metadata": {
    "collapsed": false,
    "jupyter": {
     "outputs_hidden": false
    }
   },
   "outputs": [
    {
     "name": "stdout",
     "output_type": "stream",
     "text": [
      "1 1 2 3 5 8 13 21 34 55 89 "
     ]
    }
   ],
   "source": [
    "a, b = 0, 1\n",
    "amax = 100\n",
    "\n",
    "while True:\n",
    "    (a, b) = (b, a + b)\n",
    "    if a > amax:\n",
    "        break\n",
    "    print(a, end=' ')"
   ]
  },
  {
   "cell_type": "markdown",
   "metadata": {},
   "source": [
    "```{note}\n",
    "We never use a `while True` loop, which will loop forever, unless we have a `break` statement!\n",
    "```"
   ]
  },
  {
   "cell_type": "markdown",
   "metadata": {},
   "source": [
    "## `continue` statement\n",
    "\n",
    "The `continue` statement skips the remainder of the current loop, and goes to the next iteration. These can be used in both `for` and `while` loops.\n",
    "\n",
    "Here is an example of using `continue` to print a string of odd numbers."
   ]
  },
  {
   "cell_type": "code",
   "execution_count": 10,
   "metadata": {
    "collapsed": false,
    "jupyter": {
     "outputs_hidden": false
    }
   },
   "outputs": [
    {
     "name": "stdout",
     "output_type": "stream",
     "text": [
      "1 3 5 7 9 11 13 15 17 19 "
     ]
    }
   ],
   "source": [
    "for n in range(20):\n",
    "    # if the remainder of n / 2 is 0, skip the rest of the loop\n",
    "    if n % 2 == 0:\n",
    "        continue\n",
    "    print(n, end=' ')"
   ]
  },
  {
   "cell_type": "markdown",
   "metadata": {},
   "source": [
    "In this case, the result could be accomplished just as well with an `if-else` statement, but sometimes the `continue` statement can be a more convenient way to express the idea you have in mind."
   ]
  },
  {
   "cell_type": "markdown",
   "metadata": {},
   "source": [
    "## Conclusion\n",
    "\n",
    "You can execute code over and over again in a loop while a certain condition evaluates to `True`.\n",
    "\n",
    "### Questionaire\n",
    "\n",
    "1. How `while` loop is different than `for` loop?\n",
    "2. Define `range()` function in python and also its arguments.\n",
    "3. How to use `break` and `continue` statements in a loop?\n",
    "4. What loop is used to create *infinite* loop\n",
    "5. Can we use float value in step in `range()`?"
   ]
  }
 ],
 "metadata": {
  "kernelspec": {
   "display_name": "Python 3",
   "language": "python",
   "name": "python3"
  },
  "language_info": {
   "codemirror_mode": {
    "name": "ipython",
    "version": 3
   },
   "file_extension": ".py",
   "mimetype": "text/x-python",
   "name": "python",
   "nbconvert_exporter": "python",
   "pygments_lexer": "ipython3",
   "version": "3.6.7"
  },
  "toc": {
   "base_numbering": 1,
   "nav_menu": {},
   "number_sections": true,
   "sideBar": true,
   "skip_h1_title": false,
   "title_cell": "Table of Contents",
   "title_sidebar": "Contents",
   "toc_cell": false,
   "toc_position": {},
   "toc_section_display": true,
   "toc_window_display": false
  }
 },
 "nbformat": 4,
 "nbformat_minor": 4
}
