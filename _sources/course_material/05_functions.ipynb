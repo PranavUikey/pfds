{
 "cells": [
  {
   "cell_type": "markdown",
   "metadata": {},
   "source": [
    "# Functions\n",
    "\n",
    "You’re already familiar with the `print()`, `input()`, and `len()` functions from the previous chapters. Python provides several built-in functions like these, but you can also write your own functions. A function is like a mini-program within a program.\n",
    "\n",
    "To better understand how functions work, let’s create one."
   ]
  },
  {
   "cell_type": "code",
   "execution_count": 4,
   "metadata": {},
   "outputs": [],
   "source": [
    "def hello(): \n",
    "    print('Hello!') \n",
    "    print('Hello!!!')\n",
    "    print('Hello there.')"
   ]
  },
  {
   "cell_type": "markdown",
   "metadata": {},
   "source": [
    "The first line is a `def` statement, which defines a function named `hello`. The code in the block that follows the `def` statement  is the *body of the function*. This code is executed when the function is called, not when the function is first defined."
   ]
  },
  {
   "cell_type": "code",
   "execution_count": 5,
   "metadata": {
    "scrolled": true
   },
   "outputs": [
    {
     "name": "stdout",
     "output_type": "stream",
     "text": [
      "Hello!\n",
      "Hello!!!\n",
      "Hello there.\n",
      "Hello!\n",
      "Hello!!!\n",
      "Hello there.\n",
      "Hello!\n",
      "Hello!!!\n",
      "Hello there.\n"
     ]
    }
   ],
   "source": [
    "hello()\n",
    "hello()\n",
    "hello()"
   ]
  },
  {
   "cell_type": "markdown",
   "metadata": {},
   "source": [
    "The `hello()` are function calls. In code, a function call is just the function’s name followed by parentheses, possibly with some number of arguments in between the parentheses. When the program execution reaches these calls, it will jump to the top line in the function and begin executing the code there. When it reaches the end of the function, the execution returns to the line that called the function and continues moving through the code as before.\n",
    "\n",
    "A major purpose of functions is to group code that gets executed multiple times. Without a function defined, you would have to copy and paste this code each time, and the program would look like this:"
   ]
  },
  {
   "cell_type": "code",
   "execution_count": 13,
   "metadata": {},
   "outputs": [
    {
     "name": "stdout",
     "output_type": "stream",
     "text": [
      "Hello!\n",
      "Hello!!!\n",
      "Hello there.\n",
      "Hello!\n",
      "Hello!!!\n",
      "Hello there.\n",
      "Hello!\n",
      "Hello!!!\n",
      "Hello there.\n"
     ]
    }
   ],
   "source": [
    "print('Hello!')\n",
    "print('Hello!!!')\n",
    "print('Hello there.')\n",
    "print('Hello!')\n",
    "print('Hello!!!')\n",
    "print('Hello there.')\n",
    "print('Hello!')\n",
    "print('Hello!!!')\n",
    "print('Hello there.')"
   ]
  },
  {
   "cell_type": "markdown",
   "metadata": {},
   "source": [
    "In general, you always want to avoid duplicating code, because duplicate code is very prone to errors. For example, you find a bug you need to fix you’ll have to remember to change the code everywhere you copied it.\n",
    "\n",
    "As you get more programming experience, you’ll often find yourself de-duplicating code, which means getting rid of duplicated or copy-and-pasted code. De-duplication makes your programs shorter, easier to read, and easier to update."
   ]
  },
  {
   "cell_type": "markdown",
   "metadata": {},
   "source": [
    "## `def` statement with parameters\n",
    "\n",
    "When you call the `print()` or `len()` function, you pass in values, called **arguments** in this context, by typing them between the parentheses. You can also define your own functions that accept arguments."
   ]
  },
  {
   "cell_type": "code",
   "execution_count": 1,
   "metadata": {},
   "outputs": [],
   "source": [
    "def hello(name):            \n",
    "    print('Hello '+ name)       "
   ]
  },
  {
   "cell_type": "markdown",
   "metadata": {},
   "source": [
    "The definition of the `hello()` function in this program has a parameter called `name`. A **parameter** is a variable that an argument is stored in when a function is called. "
   ]
  },
  {
   "cell_type": "code",
   "execution_count": 14,
   "metadata": {},
   "outputs": [
    {
     "name": "stdout",
     "output_type": "stream",
     "text": [
      "Hello Alice\n",
      "Hello Bob\n"
     ]
    }
   ],
   "source": [
    "hello('Alice')\n",
    "hello('Bob')"
   ]
  },
  {
   "cell_type": "markdown",
   "metadata": {},
   "source": [
    "The first time the `hello()` function is called, it’s with the argument `'Alice'`. The program execution enters the function, and the variable `name` is automatically set to `Alice`, which is what gets printed by the `print()` statement."
   ]
  },
  {
   "cell_type": "markdown",
   "metadata": {},
   "source": [
    "One special thing to note about parameters is that the value stored in a `parameter` is forgotten when the function returns. For example, if you added `print(name)` after `hello('Bob')` in the previous program, the program would give you a `NameError` because there is no variable named `name`. This variable was destroyed after the function call `hello('Bob')` had returned, so `print(name)` would refer to a `name` variable that does not exist."
   ]
  },
  {
   "cell_type": "markdown",
   "metadata": {},
   "source": [
    "```{note}\n",
    "If you're familiar with strongly-typed languages like `C`, you'll immediately notice that there is no type information associated with the function inputs or outputs.\n",
    "```\n",
    "\n",
    "Python functions can return any Python object, simple or compound, which means constructs that may be difficult in other languages are straightforward in Python.\n",
    "\n",
    "For example, you can easily return multiple values by simply separating them with commas:"
   ]
  },
  {
   "cell_type": "code",
   "execution_count": 15,
   "metadata": {},
   "outputs": [
    {
     "name": "stdout",
     "output_type": "stream",
     "text": [
      "3 4 5\n"
     ]
    }
   ],
   "source": [
    "def val_pp(val):\n",
    "    return val, val+1 , val+2\n",
    "\n",
    "r, i, c = val_pp(3)\n",
    "print(r, i, c)"
   ]
  },
  {
   "cell_type": "markdown",
   "metadata": {},
   "source": [
    "## Default Argument Values\n",
    "\n",
    "Often when defining a function, there are certain values that we want the function to use *most* of the time, but we'd also like to give the user some flexibility.\n",
    "In this case, we can use *default values* for arguments.\n",
    "Let's create a `fibonacci` function. What if we would like the user to be able to play with the starting values?\n",
    "We could do that as follows:"
   ]
  },
  {
   "cell_type": "code",
   "execution_count": 16,
   "metadata": {
    "collapsed": false,
    "jupyter": {
     "outputs_hidden": false
    }
   },
   "outputs": [],
   "source": [
    "def fibonacci(N, a=0, b=1):\n",
    "    counter = 0\n",
    "    while counter < N:\n",
    "        a, b = b, a + b\n",
    "        print(a, end=' ')\n",
    "        counter = counter+1"
   ]
  },
  {
   "cell_type": "markdown",
   "metadata": {},
   "source": [
    "With a single argument, the result of the function call is identical to before:"
   ]
  },
  {
   "cell_type": "code",
   "execution_count": 17,
   "metadata": {
    "collapsed": false,
    "jupyter": {
     "outputs_hidden": false
    }
   },
   "outputs": [
    {
     "name": "stdout",
     "output_type": "stream",
     "text": [
      "1 1 2 3 5 8 13 21 34 55 "
     ]
    }
   ],
   "source": [
    "fibonacci(10)"
   ]
  },
  {
   "cell_type": "markdown",
   "metadata": {},
   "source": [
    "But now we can use the function to explore new things, such as the effect of new starting values:"
   ]
  },
  {
   "cell_type": "code",
   "execution_count": 18,
   "metadata": {
    "collapsed": false,
    "jupyter": {
     "outputs_hidden": false
    }
   },
   "outputs": [
    {
     "name": "stdout",
     "output_type": "stream",
     "text": [
      "2 2 4 6 10 16 26 42 68 110 "
     ]
    }
   ],
   "source": [
    "fibonacci(10, 0, 2)"
   ]
  },
  {
   "cell_type": "markdown",
   "metadata": {},
   "source": [
    "The values can also be specified by name if desired, in which case the order of the named values does not matter:"
   ]
  },
  {
   "cell_type": "code",
   "execution_count": 19,
   "metadata": {
    "collapsed": false,
    "jupyter": {
     "outputs_hidden": false
    }
   },
   "outputs": [
    {
     "name": "stdout",
     "output_type": "stream",
     "text": [
      "3 4 7 11 18 29 47 76 123 199 "
     ]
    }
   ],
   "source": [
    "fibonacci(10, b=3, a=1)"
   ]
  },
  {
   "cell_type": "markdown",
   "metadata": {},
   "source": [
    "## `return` statement\n",
    "\n",
    "When you call the `len()` function and pass it an argument such as *'Hello'*, the function call evaluates to the integer value 5, which is the length of the string you passed it. In general, the value that a function call evaluates to is called the **return value of the function**.\n",
    "\n",
    "When creating a function using the `def` statement, you can specify what the `return` value should be with a `return` statement. A `return` statement consists of the following:\n",
    "\n",
    "- The `return` keyword\n",
    "- The value or expression that the function should `return`\n",
    "\n",
    "When an expression is used with a `return` statement, the `return` value is what this expression evaluates to. For example, the following program defines a function that returns a different string depending on what number it is passed as an argument."
   ]
  },
  {
   "cell_type": "code",
   "execution_count": null,
   "metadata": {},
   "outputs": [],
   "source": [
    "import random\n",
    "\n",
    "def getAnswer(answerNumber):            \n",
    "    if answerNumber == 1:               \n",
    "        return 'It is certain'\n",
    "    elif answerNumber == 2:\n",
    "        return 'It is decidedly so'\n",
    "    elif answerNumber == 3:\n",
    "        return 'Yes'\n",
    "    elif answerNumber == 4:\n",
    "        return 'Reply hazy try again'\n",
    "    elif answerNumber == 5:\n",
    "        return 'Ask again later'\n",
    "    elif answerNumber == 6:\n",
    "        return 'Concentrate and ask again'\n",
    "    elif answerNumber == 7:\n",
    "        return 'My reply is no'\n",
    "    elif answerNumber == 8:\n",
    "        return 'Outlook not so good'\n",
    "    elif answerNumber == 9:\n",
    "        return 'Very doubtful'"
   ]
  },
  {
   "cell_type": "markdown",
   "metadata": {},
   "source": [
    "This program starts, Python first imports the `random` module. Then the `getAnswer()` function is defined with a parameter named `answerNumber`. Because the function is being defined (and not called), the execution skips over the code in it."
   ]
  },
  {
   "cell_type": "code",
   "execution_count": 20,
   "metadata": {},
   "outputs": [
    {
     "name": "stdout",
     "output_type": "stream",
     "text": [
      "Ask again later\n"
     ]
    }
   ],
   "source": [
    "r = random.randint(1, 9)             \n",
    "fortune = getAnswer(r)               \n",
    "print(fortune)                       "
   ]
  },
  {
   "cell_type": "markdown",
   "metadata": {},
   "source": [
    "Next, the `random.randint()` function is called with two arguments, 1 and 9. It evaluates to a random integer between 1 and 9 (including 1 and 9 themselves), and this value is stored in a variable named `r`.\n",
    "\n",
    "The `getAnswer()` function is called with `r` as the argument. The program execution moves to the top of the `getAnswer()` function, and the value `r` is stored in a parameter named `answerNumber`. Then, depending on this value in `answerNumber`, the function returns one of many possible string values. The program execution returns to the line at the bottom of the program that originally called `getAnswer()`. The returned string is assigned to a variable named `fortune`, which then gets passed to a `print()` call and is printed to the screen.\n",
    "\n",
    "Note that since you can pass `return` values as an argument to another function call, you could shorten these three lines:"
   ]
  },
  {
   "cell_type": "code",
   "execution_count": 22,
   "metadata": {},
   "outputs": [
    {
     "name": "stdout",
     "output_type": "stream",
     "text": [
      "It is decidedly so\n"
     ]
    }
   ],
   "source": [
    "# to this single equivalent line:\n",
    "print(getAnswer(random.randint(1, 9)))"
   ]
  },
  {
   "cell_type": "markdown",
   "metadata": {},
   "source": [
    "Remember, expressions are composed of values and operators. A function call can be used in an expression because it evaluates to its `return` value."
   ]
  },
  {
   "cell_type": "markdown",
   "metadata": {},
   "source": [
    "## `None` value\n",
    "\n",
    "In Python there is a value called `None`, which represents the *absence of a value*. `None` is the only value of the *NoneType data type*. (Other programming languages might call this value null, nil, or undefined.) Just like the Boolean `True` and `False` values, `None` must be typed with a capital **N**.\n",
    "\n",
    "This value-without-a-value can be helpful when you need to store something that won’t be confused for a real value in a variable. One place where `None` is used is as the return value of `print()`. The `print()` function displays text on the screen, but it doesn’t need to return anything in the same way `len()` or `input()` does. But since all function calls need to evaluate to a `return` value, `print()` returns `None`. To see this in action, enter the following into your Jupyter Notebook:"
   ]
  },
  {
   "cell_type": "code",
   "execution_count": 23,
   "metadata": {},
   "outputs": [
    {
     "name": "stdout",
     "output_type": "stream",
     "text": [
      "Hello!\n"
     ]
    }
   ],
   "source": [
    "var = print('Hello!')"
   ]
  },
  {
   "cell_type": "code",
   "execution_count": 24,
   "metadata": {},
   "outputs": [
    {
     "data": {
      "text/plain": [
       "True"
      ]
     },
     "execution_count": 24,
     "metadata": {},
     "output_type": "execute_result"
    }
   ],
   "source": [
    "None == var"
   ]
  },
  {
   "cell_type": "markdown",
   "metadata": {},
   "source": [
    "## Jupyter Tricks\n",
    "\n",
    "\n",
    "Here are some jupyter notebook tricks while working with functions:\n",
    "\n",
    "- <kbd>Shift</kbd>+<kbd>Tab</kbd> (press once): See which parameters can be passed to a function.\n",
    "\n",
    "- <kbd>Shift</kbd>+<kbd>Tab</kbd> (press three times): Get additional information about the function.\n",
    "\n",
    "```{note}\n",
    "The above two shortcuts only works when your cursor is between the function parentheses.\n",
    "```\n",
    "\n",
    "\n",
    "- `?function-name` (Press <kbd>Shift</kbd> +<kbd>Enter</kbd>): Shows the definition and docstring for that function\n",
    "\n",
    "- `??function-name` (Press <kbd>Shift</kbd> +<kbd>Enter</kbd>): Shows the source code for that function\n",
    "\n",
    "You can use these tricks with both, built-in functions & user defined functions."
   ]
  },
  {
   "cell_type": "markdown",
   "metadata": {},
   "source": [
    "## Conclusion\n",
    "\n",
    "### Questionaire\n",
    "\n",
    "1. Can we define a function without `return` statement?\n",
    "2. How many arguments can we use in a single user defined function?\n",
    "3. Is it possible to change default argument's value in functions?\n",
    "4. What does `print()` returns?\n",
    "5. Write a function which will take a number as an argument and return its square."
   ]
  }
 ],
 "metadata": {
  "kernelspec": {
   "display_name": "Python 3",
   "language": "python",
   "name": "python3"
  },
  "language_info": {
   "codemirror_mode": {
    "name": "ipython",
    "version": 3
   },
   "file_extension": ".py",
   "mimetype": "text/x-python",
   "name": "python",
   "nbconvert_exporter": "python",
   "pygments_lexer": "ipython3",
   "version": "3.8.3"
  }
 },
 "nbformat": 4,
 "nbformat_minor": 4
}
